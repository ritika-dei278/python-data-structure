{
  "nbformat": 4,
  "nbformat_minor": 0,
  "metadata": {
    "colab": {
      "provenance": []
    },
    "kernelspec": {
      "name": "python3",
      "display_name": "Python 3"
    },
    "language_info": {
      "name": "python"
    }
  },
  "cells": [
    {
      "cell_type": "markdown",
      "source": [
        "#DATA TYPES AND STRUCTURE QUESTIONS\n",
        "Q1 What are data structures, and why are they important?\n",
        "- Data structures are specialized formats for organizing and storing data so that it can be accessed and manipulated efficiently. They bare important to effectively manage and clean the data  .\n",
        "\n",
        "\n",
        "Q2 Explain the difference between mutable and immutable data types with examples?\n",
        "- Mutable data types are those which can be modified after creation. for example - lists.\n",
        "- Immutable data types are those that can't be modified after creation. example - tuples, strings.\n",
        "\n",
        "\n",
        "Q3 What are the main differences between lists and tuples in Python?\n",
        "- Lists are **mutable** data type while tuples are **immutable** .\n",
        "That means the elements of a list can be changed after they are created while the elements of tuples cannot be changed.\n",
        "- Tuples provide a **secure** way of storing data, while lists **do not** .\n",
        "\n",
        "\n",
        "Q4 Describe how dictionaries store data?\n",
        "- Dictionaries use **key:value** pairs to store data . Each key acts as a unique identifier to retrieve associated value .\n",
        "\n",
        "Q5 Why might you use a set instead of a list in Python?\n",
        "- Sets are a collection of **unique elements** which means they do  not allow any duplicates. Lists do not have this feature wich make sets more appealing to use when you want only unique elements from a set of data.\n",
        "\n",
        "\n",
        "Q6  What is a string in Python, and how is it different from a list?\n",
        "- Strings refer to a **sequence of characters** which cannot be changed.\n",
        "Syntax of strings : string_name = \"ajay\".\n",
        "- Strings are different from lists as they are not mutable and cannot be modified .\n",
        "\n",
        "\n",
        "Q7 How do tuples ensure data integrity in Python?\n",
        "- Tuples are *immutable* data type which prevents accidental modification ensuring data integrity in Python .\n",
        "\n",
        "Q8 What is a hash table, and how does it relate to dictionaries in Python?\n",
        "- A **hash table** maps key to values using a hashing function. Python dictionaries use this hash fucntion to store data in the key:value format .\n",
        "\n",
        "Q9 Can lists contain different data types in Python?\n",
        "- Yes, lists can store different data types such as integers, strings, float, boolean, etc .\n",
        "\n",
        "\n",
        "Q10 Explain why strings are immutable in Python?\n",
        "- Strings are immutable in Python so that accidental changes can be prevented .\n",
        "Immutability  of strings ensures efficiency and security while manipulating data .\n",
        "\n",
        "Q11 What advantages do dictionaries offer over lists for certain tasks?\n",
        "- Dictionaries offer advantage over lists when you need to qucikly access a value based on a unique key. It helps in fast lookups making it more efficient and easy going than lists where we have to iterate through all the elements making it time consuming and slow  in case of  large data sets .\n",
        "\n",
        "Q12 Describe a scenario where using a tuple would be preferable over a list?\n",
        "- When you don't want any unnecesary changes in your stored data, you can use tuples instead of lists as their mutability makes them less secure than immutable tuples.\n",
        "\n",
        "\n",
        "Q13 How do sets handle duplicate values in Python?\n",
        "- Sets eliminates any duplicates value in Python. For example, let set_ = {1,2,3,4,3}\n",
        "when we'll execute this set , the result will be like this:\n",
        "\n",
        "\n"
      ],
      "metadata": {
        "id": "IRcHlFMnoQR_"
      }
    },
    {
      "cell_type": "code",
      "execution_count": null,
      "metadata": {
        "id": "hEmMtsb0oPCQ",
        "colab": {
          "base_uri": "https://localhost:8080/"
        },
        "outputId": "f871d455-ba9f-4863-ccb7-a6ea626b902a"
      },
      "outputs": [
        {
          "output_type": "stream",
          "name": "stdout",
          "text": [
            "{1, 2, 3, 4}\n"
          ]
        }
      ],
      "source": [
        "set_ = {1,2,3,4,3}\n",
        "print(set_)                  #it has eliminated one of the 3's from the set."
      ]
    },
    {
      "cell_type": "markdown",
      "source": [
        "Q14 How does the “in” keyword work differently for lists and dictionaries?\n",
        "- In a list, \"in\" searches for a value within the list elements, while in a dictionary, it checks if a specific value exists as a key within the dictionary . Example:"
      ],
      "metadata": {
        "id": "XBprwx4FT23x"
      }
    },
    {
      "cell_type": "code",
      "source": [
        "d = {\"name\":\"ritii\",\"class\":\"bba\",\"roll no.\":2405278}"
      ],
      "metadata": {
        "id": "5roKf9xoFA4a"
      },
      "execution_count": null,
      "outputs": []
    },
    {
      "cell_type": "code",
      "source": [
        "\"name\" in d  #true because \"name\" key is present in the dict. d"
      ],
      "metadata": {
        "colab": {
          "base_uri": "https://localhost:8080/"
        },
        "id": "Tyz1dUDLTNc0",
        "outputId": "d280d426-837b-4d8a-fae9-bb4d948c878d"
      },
      "execution_count": null,
      "outputs": [
        {
          "output_type": "execute_result",
          "data": {
            "text/plain": [
              "True"
            ]
          },
          "metadata": {},
          "execution_count": 5
        }
      ]
    },
    {
      "cell_type": "code",
      "source": [
        "\"ritii\" in d  #false because value \"ritii\" is not  a  key in the dict"
      ],
      "metadata": {
        "colab": {
          "base_uri": "https://localhost:8080/"
        },
        "id": "X3qJDrVRTXFe",
        "outputId": "ce947da5-b173-445d-dbf8-785c89af0847"
      },
      "execution_count": null,
      "outputs": [
        {
          "output_type": "execute_result",
          "data": {
            "text/plain": [
              "False"
            ]
          },
          "metadata": {},
          "execution_count": 6
        }
      ]
    },
    {
      "cell_type": "markdown",
      "source": [
        "Q15 Can you modify the elements of a tuple? Explain why or why not?\n",
        "- No, we cannot modify the elements of a tuple as it is an immutable data type.\n"
      ],
      "metadata": {
        "id": "4NiKO6m1VJXM"
      }
    },
    {
      "cell_type": "markdown",
      "source": [
        "Q16 What is a nested dictionary, and give an example of its use case?\n",
        "- Nested dictionary refers to a dictionary within a dictionary. Example below:"
      ],
      "metadata": {
        "id": "O8hcb9egZCUz"
      }
    },
    {
      "cell_type": "code",
      "source": [
        "d = {\"name\":\"ritika\",\"grade\":{\"math\":90,\"englsih\":85,\"science\":89}}"
      ],
      "metadata": {
        "id": "17SuogZgXIeO"
      },
      "execution_count": null,
      "outputs": []
    },
    {
      "cell_type": "code",
      "source": [
        "d"
      ],
      "metadata": {
        "colab": {
          "base_uri": "https://localhost:8080/"
        },
        "id": "f6Cn2C4nX12v",
        "outputId": "10d8f162-f604-492a-e79c-3271d24bb717"
      },
      "execution_count": null,
      "outputs": [
        {
          "output_type": "execute_result",
          "data": {
            "text/plain": [
              "{'name': 'ritika', 'grade': {'math': 90, 'englsih': 85, 'science': 89}}"
            ]
          },
          "metadata": {},
          "execution_count": 12
        }
      ]
    },
    {
      "cell_type": "markdown",
      "source": [
        "Q17 Describe the time complexity of accessing elements in a dictionary?\n",
        "- not leanrt yet.\n",
        "\n",
        "Q18 In what situations are lists preferred over dictionaries?\n",
        "- Lists are preferred over dictionaries when **ordered data is needed** as dictionaries are unordered collection of elements while lists store data in a sequential way.\n",
        "\n",
        "Q19 Why are dictionaries considered unordered, and how does that affect data retrieval?\n",
        "- Dictionaries are  considered unordered as they use keys istead of index numbers to pull out infomation, so it doesnt actually matter where the item is in the dictionary, you search with keys.\n",
        "\n",
        "Q20 Explain the difference between a list and a dictionary in terms of data retrieval?\n",
        "- In a dictionary, data is retrieved with the help of the \"KEY for the item we are looking for,  whereas in Lists we use the index no of the elements to retrieve data. Illustration below:"
      ],
      "metadata": {
        "id": "BnZUtHI8Z-CQ"
      }
    },
    {
      "cell_type": "code",
      "source": [
        "list1 = [1,2,3,\"apple\"]\n",
        "list1[3]"
      ],
      "metadata": {
        "colab": {
          "base_uri": "https://localhost:8080/",
          "height": 36
        },
        "id": "9JLoZsFBX3BV",
        "outputId": "28496d44-3b77-48ca-9f28-882c77f15187"
      },
      "execution_count": null,
      "outputs": [
        {
          "output_type": "execute_result",
          "data": {
            "text/plain": [
              "'apple'"
            ],
            "application/vnd.google.colaboratory.intrinsic+json": {
              "type": "string"
            }
          },
          "metadata": {},
          "execution_count": 14
        }
      ]
    },
    {
      "cell_type": "markdown",
      "source": [
        "Since 3 is the index no. of \"apple\" , we used it to retrieve apple."
      ],
      "metadata": {
        "id": "oZ83EaOfek6g"
      }
    },
    {
      "cell_type": "code",
      "source": [
        "dict_ = {\"name\":\"ritika\",\"percent\":95}\n",
        "dict_[\"percent\"]"
      ],
      "metadata": {
        "colab": {
          "base_uri": "https://localhost:8080/"
        },
        "id": "9d6gxoqYegoT",
        "outputId": "03a04074-19ac-4e64-aea5-12940347aaaa"
      },
      "execution_count": null,
      "outputs": [
        {
          "output_type": "execute_result",
          "data": {
            "text/plain": [
              "95"
            ]
          },
          "metadata": {},
          "execution_count": 17
        }
      ]
    },
    {
      "cell_type": "markdown",
      "source": [
        "since dictionaries use key:value pair , we retrieve the values using their assigned keys as shown above ."
      ],
      "metadata": {
        "id": "ytXE7Jj1e3Et"
      }
    },
    {
      "cell_type": "markdown",
      "source": [
        "#PRACTICAL QUESTIONS\n",
        "Q1 Write a code to create a string with your name and print it?\n",
        "\n"
      ],
      "metadata": {
        "id": "AHdev8FTf2a3"
      }
    },
    {
      "cell_type": "code",
      "source": [
        "str_name = \"Ritika Agarwal\"\n",
        "print(str_name)"
      ],
      "metadata": {
        "id": "yrsx4r1-e1Sq",
        "colab": {
          "base_uri": "https://localhost:8080/"
        },
        "outputId": "33f1dca8-cb48-45dd-c99a-3f3946bddb9a"
      },
      "execution_count": 19,
      "outputs": [
        {
          "output_type": "stream",
          "name": "stdout",
          "text": [
            "Ritika Agarwal\n"
          ]
        }
      ]
    },
    {
      "cell_type": "markdown",
      "source": [
        "Q2 Write a code to find the length of the string \"Hello World\""
      ],
      "metadata": {
        "id": "8HbPaFrThiY8"
      }
    },
    {
      "cell_type": "code",
      "source": [
        "str_ = \"Hello World\""
      ],
      "metadata": {
        "id": "Ex6iSl4FhaGz"
      },
      "execution_count": 20,
      "outputs": []
    },
    {
      "cell_type": "code",
      "source": [
        "len(str_)"
      ],
      "metadata": {
        "colab": {
          "base_uri": "https://localhost:8080/"
        },
        "id": "UGIu7ZmRhuIq",
        "outputId": "1852f0c1-75d2-46a0-ca98-c4395a67abd6"
      },
      "execution_count": 21,
      "outputs": [
        {
          "output_type": "execute_result",
          "data": {
            "text/plain": [
              "11"
            ]
          },
          "metadata": {},
          "execution_count": 21
        }
      ]
    },
    {
      "cell_type": "code",
      "source": [
        "#Q3 Write a code to slice the first 3 characters from\n",
        "# the string \"Python Programming\"?\n",
        "s = \"Python Programming\""
      ],
      "metadata": {
        "id": "BiVkgpCDhvzB"
      },
      "execution_count": 22,
      "outputs": []
    },
    {
      "cell_type": "code",
      "source": [
        "#slicing\n",
        "s[0:3]"
      ],
      "metadata": {
        "colab": {
          "base_uri": "https://localhost:8080/",
          "height": 35
        },
        "id": "IAlcCSpOh_2y",
        "outputId": "6d6209af-2272-4b91-c07a-8fdafa0e0079"
      },
      "execution_count": 24,
      "outputs": [
        {
          "output_type": "execute_result",
          "data": {
            "text/plain": [
              "'Pyt'"
            ],
            "application/vnd.google.colaboratory.intrinsic+json": {
              "type": "string"
            }
          },
          "metadata": {},
          "execution_count": 24
        }
      ]
    },
    {
      "cell_type": "code",
      "source": [
        "#Q4 Write a code to convert the string \"hello\" to uppercase?\n",
        "s = \"hello\"\n",
        "s.upper()"
      ],
      "metadata": {
        "colab": {
          "base_uri": "https://localhost:8080/",
          "height": 35
        },
        "id": "KV4nwq3siHLz",
        "outputId": "092aa6dd-4e06-4c88-a165-f0a99877e548"
      },
      "execution_count": 107,
      "outputs": [
        {
          "output_type": "execute_result",
          "data": {
            "text/plain": [
              "'HELLO'"
            ],
            "application/vnd.google.colaboratory.intrinsic+json": {
              "type": "string"
            }
          },
          "metadata": {},
          "execution_count": 107
        }
      ]
    },
    {
      "cell_type": "code",
      "source": [
        "#5 Write a code to replace the word \"apple\" with \"orange\" in the string \"I like apple\".\n",
        "s1 = \"I like apple\"\n",
        "s1.replace(\"apple\",\"orange\")"
      ],
      "metadata": {
        "colab": {
          "base_uri": "https://localhost:8080/",
          "height": 35
        },
        "id": "jGI4lWCeiW_V",
        "outputId": "75a9742b-1936-4542-c68d-0675b384c402"
      },
      "execution_count": 108,
      "outputs": [
        {
          "output_type": "execute_result",
          "data": {
            "text/plain": [
              "'I like orange'"
            ],
            "application/vnd.google.colaboratory.intrinsic+json": {
              "type": "string"
            }
          },
          "metadata": {},
          "execution_count": 108
        }
      ]
    },
    {
      "cell_type": "code",
      "source": [
        "#6 Write a code to create a list with numbers 1 to 5 and print it.\n",
        "list_ = [1,2,3,4,5]\n",
        "print(list_)"
      ],
      "metadata": {
        "colab": {
          "base_uri": "https://localhost:8080/"
        },
        "id": "-_n0L7bZiW4l",
        "outputId": "5bb2f6ac-6e78-4d6e-a0a5-6514ee5dc358"
      },
      "execution_count": 37,
      "outputs": [
        {
          "output_type": "stream",
          "name": "stdout",
          "text": [
            "[1, 2, 3, 4, 5]\n"
          ]
        }
      ]
    },
    {
      "cell_type": "code",
      "source": [
        "#7 Write a code to append the number 10 to the list [1, 2, 3, 4].\n",
        "lis = [1,2,3,4]"
      ],
      "metadata": {
        "id": "4B9SLLM9iWxo"
      },
      "execution_count": 42,
      "outputs": []
    },
    {
      "cell_type": "code",
      "source": [
        "lis.append(10)\n",
        "lis"
      ],
      "metadata": {
        "colab": {
          "base_uri": "https://localhost:8080/"
        },
        "id": "ehgFkSRRiWj7",
        "outputId": "9e06ccaa-2823-4c8b-815d-e5091b6d69a2"
      },
      "execution_count": 43,
      "outputs": [
        {
          "output_type": "execute_result",
          "data": {
            "text/plain": [
              "[1, 2, 3, 4, 10]"
            ]
          },
          "metadata": {},
          "execution_count": 43
        }
      ]
    },
    {
      "cell_type": "code",
      "source": [
        "#8 Write a code to remove the number 3 from the list [1, 2, 3, 4, 5].\n",
        "l = [1,2,3,4,5]\n"
      ],
      "metadata": {
        "id": "h2s1kSxNiWcx"
      },
      "execution_count": 48,
      "outputs": []
    },
    {
      "cell_type": "code",
      "source": [
        "l.remove(3)\n",
        "l"
      ],
      "metadata": {
        "colab": {
          "base_uri": "https://localhost:8080/"
        },
        "id": "EOgK9N2niWWQ",
        "outputId": "3576269d-b90b-4469-cf6c-a6818941dd0d"
      },
      "execution_count": 49,
      "outputs": [
        {
          "output_type": "execute_result",
          "data": {
            "text/plain": [
              "[1, 2, 4, 5]"
            ]
          },
          "metadata": {},
          "execution_count": 49
        }
      ]
    },
    {
      "cell_type": "code",
      "source": [
        "#9 Write a code to access the second element in the list ['a', 'b', 'c', 'd']\n",
        "list_ = ['a', 'b', 'c', 'd']"
      ],
      "metadata": {
        "id": "01Np0BkCiWO6"
      },
      "execution_count": 50,
      "outputs": []
    },
    {
      "cell_type": "code",
      "source": [
        "list_[1]"
      ],
      "metadata": {
        "colab": {
          "base_uri": "https://localhost:8080/",
          "height": 35
        },
        "id": "o4Cqvuq8iWIq",
        "outputId": "f5df3c35-5fcd-463b-e06e-52fe4cfbfc00"
      },
      "execution_count": 51,
      "outputs": [
        {
          "output_type": "execute_result",
          "data": {
            "text/plain": [
              "'b'"
            ],
            "application/vnd.google.colaboratory.intrinsic+json": {
              "type": "string"
            }
          },
          "metadata": {},
          "execution_count": 51
        }
      ]
    },
    {
      "cell_type": "code",
      "source": [
        "#10 Write a code to reverse the list [10, 20, 30, 40, 50]\n",
        "l = [10, 20, 30, 40, 50]"
      ],
      "metadata": {
        "id": "cobc9FYEiWBJ"
      },
      "execution_count": 52,
      "outputs": []
    },
    {
      "cell_type": "code",
      "source": [
        "L= l[::-1]\n",
        "L"
      ],
      "metadata": {
        "colab": {
          "base_uri": "https://localhost:8080/"
        },
        "id": "kNGiFBC4iV6m",
        "outputId": "7ea126d9-1533-4dc1-d0af-7a1f8b63f463"
      },
      "execution_count": 54,
      "outputs": [
        {
          "output_type": "execute_result",
          "data": {
            "text/plain": [
              "[50, 40, 30, 20, 10]"
            ]
          },
          "metadata": {},
          "execution_count": 54
        }
      ]
    },
    {
      "cell_type": "code",
      "source": [
        "#11 Write a code to create a tuple with the elements 100, 200, 300 and print it\n",
        "t = (100,200,300)\n",
        "t"
      ],
      "metadata": {
        "colab": {
          "base_uri": "https://localhost:8080/"
        },
        "id": "nw_4UvQIiVzt",
        "outputId": "f0d8a93e-1c5a-4205-8123-1480253b13e1"
      },
      "execution_count": 109,
      "outputs": [
        {
          "output_type": "execute_result",
          "data": {
            "text/plain": [
              "(100, 200, 300)"
            ]
          },
          "metadata": {},
          "execution_count": 109
        }
      ]
    },
    {
      "cell_type": "code",
      "source": [
        "#12 . Write a code to access the second-to-last element of the tuple ('red', 'green', 'blue', 'yellow')\n",
        "t = ('red', 'green', 'blue', 'yellow')"
      ],
      "metadata": {
        "id": "ZxXCYTEbiVso"
      },
      "execution_count": 56,
      "outputs": []
    },
    {
      "cell_type": "code",
      "source": [
        "t[-2]"
      ],
      "metadata": {
        "colab": {
          "base_uri": "https://localhost:8080/",
          "height": 35
        },
        "id": "4AoT6WOHiVl8",
        "outputId": "e653ddff-aaf7-43de-817f-0907614fd189"
      },
      "execution_count": 57,
      "outputs": [
        {
          "output_type": "execute_result",
          "data": {
            "text/plain": [
              "'blue'"
            ],
            "application/vnd.google.colaboratory.intrinsic+json": {
              "type": "string"
            }
          },
          "metadata": {},
          "execution_count": 57
        }
      ]
    },
    {
      "cell_type": "code",
      "source": [
        "#13  Write a code to find the minimum number in the tuple (10, 20, 5, 15)\n",
        "t = (10, 20, 5, 15)\n",
        "min(t)"
      ],
      "metadata": {
        "colab": {
          "base_uri": "https://localhost:8080/"
        },
        "id": "GOdR0O2oiVfH",
        "outputId": "ea22c99c-c9e3-43e0-86c0-3893d45b05b9"
      },
      "execution_count": 63,
      "outputs": [
        {
          "output_type": "execute_result",
          "data": {
            "text/plain": [
              "5"
            ]
          },
          "metadata": {},
          "execution_count": 63
        }
      ]
    },
    {
      "cell_type": "code",
      "source": [
        "#14 Write a code to find the index of the element \"cat\" in the tuple ('dog', 'cat', 'rabbit')\n",
        "t = ('dog', 'cat', 'rabbit')\n",
        "t.index(\"cat\")"
      ],
      "metadata": {
        "colab": {
          "base_uri": "https://localhost:8080/"
        },
        "id": "XL5SfReTiVX8",
        "outputId": "8c9b4760-e041-468f-bd0b-9981075ed165"
      },
      "execution_count": 68,
      "outputs": [
        {
          "output_type": "execute_result",
          "data": {
            "text/plain": [
              "1"
            ]
          },
          "metadata": {},
          "execution_count": 68
        }
      ]
    },
    {
      "cell_type": "code",
      "source": [
        "#15  Write a code to create a tuple containing three different fruits and check if \"kiwi\" is in it\n",
        "tuple1 = (\"apple\",\"banana\",\"kiwi\")"
      ],
      "metadata": {
        "id": "IrhgwcNYiVRI"
      },
      "execution_count": 69,
      "outputs": []
    },
    {
      "cell_type": "code",
      "source": [
        "\"kiwi\" in tuple1"
      ],
      "metadata": {
        "colab": {
          "base_uri": "https://localhost:8080/"
        },
        "id": "imnWJZVIiVJ-",
        "outputId": "bcd824d1-2f02-4b0b-fcd8-27fa305a0450"
      },
      "execution_count": 70,
      "outputs": [
        {
          "output_type": "execute_result",
          "data": {
            "text/plain": [
              "True"
            ]
          },
          "metadata": {},
          "execution_count": 70
        }
      ]
    },
    {
      "cell_type": "code",
      "source": [
        "#16 Write a code to create a set with the elements 'a', 'b', 'c' and print i\n",
        "s = {\"a\",\"b\",\"c\"}\n",
        "s"
      ],
      "metadata": {
        "colab": {
          "base_uri": "https://localhost:8080/"
        },
        "id": "JSkcud_hiVD1",
        "outputId": "2ffc1bab-8b83-4ff0-9e04-4bc574283de6"
      },
      "execution_count": 110,
      "outputs": [
        {
          "output_type": "execute_result",
          "data": {
            "text/plain": [
              "{'a', 'b', 'c'}"
            ]
          },
          "metadata": {},
          "execution_count": 110
        }
      ]
    },
    {
      "cell_type": "code",
      "source": [
        "#17 Write a code to clear all elements from the set {1, 2, 3, 4, 5}\n",
        "s = {1, 2, 3, 4, 5}"
      ],
      "metadata": {
        "id": "CcqIh_33iU80"
      },
      "execution_count": 72,
      "outputs": []
    },
    {
      "cell_type": "code",
      "source": [
        "s.clear()"
      ],
      "metadata": {
        "id": "avpBrGqwiU11"
      },
      "execution_count": 75,
      "outputs": []
    },
    {
      "cell_type": "code",
      "source": [
        "s"
      ],
      "metadata": {
        "colab": {
          "base_uri": "https://localhost:8080/"
        },
        "id": "3ynVy_ugiUuI",
        "outputId": "bbd8de86-186c-46cf-d6f1-bfba3e99de0c"
      },
      "execution_count": 76,
      "outputs": [
        {
          "output_type": "execute_result",
          "data": {
            "text/plain": [
              "set()"
            ]
          },
          "metadata": {},
          "execution_count": 76
        }
      ]
    },
    {
      "cell_type": "code",
      "source": [
        "#18 Write a code to remove the element 4 from the set {1, 2, 3, 4}\n",
        "set_ = {1, 2, 3, 4}"
      ],
      "metadata": {
        "id": "vmeKDNGXiUnH"
      },
      "execution_count": null,
      "outputs": []
    },
    {
      "cell_type": "code",
      "source": [
        "set_.remove(4)"
      ],
      "metadata": {
        "id": "VsC-7BxkiUf_"
      },
      "execution_count": 77,
      "outputs": []
    },
    {
      "cell_type": "code",
      "source": [
        "set_"
      ],
      "metadata": {
        "colab": {
          "base_uri": "https://localhost:8080/"
        },
        "id": "PDkar0jBiUZM",
        "outputId": "e9501fae-c9cd-497a-9eea-3a3a6e56fbcb"
      },
      "execution_count": 78,
      "outputs": [
        {
          "output_type": "execute_result",
          "data": {
            "text/plain": [
              "{1, 2, 3}"
            ]
          },
          "metadata": {},
          "execution_count": 78
        }
      ]
    },
    {
      "cell_type": "code",
      "source": [
        "#19 Write a code to find the union of two sets {1, 2, 3} and {3, 4, 5}\n",
        "s1 = {1, 2, 3}\n",
        "s2 = {3, 4, 5}\n",
        "s1 | s2"
      ],
      "metadata": {
        "colab": {
          "base_uri": "https://localhost:8080/"
        },
        "id": "JYzSw__So927",
        "outputId": "1f771c0d-5890-491d-b806-2b5ffdc22c91"
      },
      "execution_count": 79,
      "outputs": [
        {
          "output_type": "execute_result",
          "data": {
            "text/plain": [
              "{1, 2, 3, 4, 5}"
            ]
          },
          "metadata": {},
          "execution_count": 79
        }
      ]
    },
    {
      "cell_type": "code",
      "source": [
        "#20 Write a code to find the intersection of two sets {1, 2, 3} and {2, 3, 4}\n",
        "s1 = {1, 2, 3}\n",
        "s2 = {2, 3, 4}\n",
        "s1 & s2"
      ],
      "metadata": {
        "colab": {
          "base_uri": "https://localhost:8080/"
        },
        "id": "AE7UQrj1o-pi",
        "outputId": "80952ce2-f6f8-40d3-a872-0f9b206480dd"
      },
      "execution_count": 80,
      "outputs": [
        {
          "output_type": "execute_result",
          "data": {
            "text/plain": [
              "{2, 3}"
            ]
          },
          "metadata": {},
          "execution_count": 80
        }
      ]
    },
    {
      "cell_type": "code",
      "source": [
        "#21  Write a code to create a dictionary with the keys \"name\", \"age\", and \"city\", and print it\n",
        "d = {\"name\":\"ritika\",\"age\":20,\"city\":\"london\"}\n",
        "d"
      ],
      "metadata": {
        "colab": {
          "base_uri": "https://localhost:8080/"
        },
        "id": "clsW-wAto-mL",
        "outputId": "7760bb76-82f9-4ace-ad65-9e9f84662119"
      },
      "execution_count": 111,
      "outputs": [
        {
          "output_type": "execute_result",
          "data": {
            "text/plain": [
              "{'name': 'ritika', 'age': 20, 'city': 'london'}"
            ]
          },
          "metadata": {},
          "execution_count": 111
        }
      ]
    },
    {
      "cell_type": "code",
      "source": [
        "#22 Write a code to add a new key-value pair \"country\": \"USA\" to the dictionary {'name': 'John', 'age': 25}.\n",
        "d = {'name': 'John', 'age': 25}"
      ],
      "metadata": {
        "id": "MSImflcro-jF"
      },
      "execution_count": 86,
      "outputs": []
    },
    {
      "cell_type": "code",
      "source": [
        "d[\"country\"]=\"USA\""
      ],
      "metadata": {
        "id": "vBNF-D-to-gW"
      },
      "execution_count": 89,
      "outputs": []
    },
    {
      "cell_type": "code",
      "source": [
        "d"
      ],
      "metadata": {
        "colab": {
          "base_uri": "https://localhost:8080/"
        },
        "id": "kdg6nzxAp-kl",
        "outputId": "477ae3df-71cc-4a5a-ac71-f5bef2856b5e"
      },
      "execution_count": 90,
      "outputs": [
        {
          "output_type": "execute_result",
          "data": {
            "text/plain": [
              "{'name': 'John', 'age': 25, 'country': 'USA'}"
            ]
          },
          "metadata": {},
          "execution_count": 90
        }
      ]
    },
    {
      "cell_type": "code",
      "source": [
        "#23  Write a code to access the value associated with the key \"name\" in the dictionary {'name': 'Alice', 'age': 30}.\n",
        "d = {'name':'Alice','age':30}"
      ],
      "metadata": {
        "id": "HWDsIEK2p_Cg"
      },
      "execution_count": 91,
      "outputs": []
    },
    {
      "cell_type": "code",
      "source": [
        "d['name']"
      ],
      "metadata": {
        "colab": {
          "base_uri": "https://localhost:8080/",
          "height": 35
        },
        "id": "8-RaE7Tfq80d",
        "outputId": "7a41e9b5-a825-4026-c0fd-7700ff9a987b"
      },
      "execution_count": 92,
      "outputs": [
        {
          "output_type": "execute_result",
          "data": {
            "text/plain": [
              "'Alice'"
            ],
            "application/vnd.google.colaboratory.intrinsic+json": {
              "type": "string"
            }
          },
          "metadata": {},
          "execution_count": 92
        }
      ]
    },
    {
      "cell_type": "code",
      "source": [
        "#24  Write a code to remove the key \"age\" from the dictionary {'name': 'Bob', 'age': 22, 'city': 'New York'}.\n",
        "d = {'name': 'Bob', 'age': 22, 'city': 'New York'}"
      ],
      "metadata": {
        "id": "e0O8wewQq_Xc"
      },
      "execution_count": 93,
      "outputs": []
    },
    {
      "cell_type": "code",
      "source": [
        "d.pop(\"age\")"
      ],
      "metadata": {
        "colab": {
          "base_uri": "https://localhost:8080/"
        },
        "id": "1SdQIX4mrHaW",
        "outputId": "7811e508-f7c8-4c52-f65c-f15e656fbe6b"
      },
      "execution_count": 96,
      "outputs": [
        {
          "output_type": "execute_result",
          "data": {
            "text/plain": [
              "22"
            ]
          },
          "metadata": {},
          "execution_count": 96
        }
      ]
    },
    {
      "cell_type": "code",
      "source": [
        "d"
      ],
      "metadata": {
        "colab": {
          "base_uri": "https://localhost:8080/"
        },
        "id": "rY6aQtIqrLCI",
        "outputId": "3e66d863-a0a3-4e09-820f-c8145ed00167"
      },
      "execution_count": 97,
      "outputs": [
        {
          "output_type": "execute_result",
          "data": {
            "text/plain": [
              "{'name': 'Bob', 'city': 'New York'}"
            ]
          },
          "metadata": {},
          "execution_count": 97
        }
      ]
    },
    {
      "cell_type": "code",
      "source": [
        " #25  Write a code to check if the key \"city\" exists in the dictionary {'name': 'Alice', 'city': 'Paris'}\n",
        " d = {'name': 'Alice', 'city': 'Paris'}"
      ],
      "metadata": {
        "id": "QP67tI7grRTq"
      },
      "execution_count": 98,
      "outputs": []
    },
    {
      "cell_type": "code",
      "source": [
        "\"city\" in d"
      ],
      "metadata": {
        "colab": {
          "base_uri": "https://localhost:8080/"
        },
        "id": "Lk1bpbZWrpt4",
        "outputId": "40954384-5e47-4db6-fb85-a22b224df387"
      },
      "execution_count": 99,
      "outputs": [
        {
          "output_type": "execute_result",
          "data": {
            "text/plain": [
              "True"
            ]
          },
          "metadata": {},
          "execution_count": 99
        }
      ]
    },
    {
      "cell_type": "code",
      "source": [
        "#26  Write a code to create a list, a tuple, and a dictionary, and print them all.\n",
        "l = [1,2,3,'a','b']\n",
        "d = {\"name\":\"ritika\",\"class\":\"bba\"}\n",
        "t = (1,2,3,4)"
      ],
      "metadata": {
        "id": "79UNbBvEr0ch"
      },
      "execution_count": 100,
      "outputs": []
    },
    {
      "cell_type": "code",
      "source": [
        "l"
      ],
      "metadata": {
        "colab": {
          "base_uri": "https://localhost:8080/"
        },
        "id": "UrCd3mrPr4tS",
        "outputId": "1984f31e-75a1-462e-c7a1-95e4aa433781"
      },
      "execution_count": 101,
      "outputs": [
        {
          "output_type": "execute_result",
          "data": {
            "text/plain": [
              "[1, 2, 3, 'a', 'b']"
            ]
          },
          "metadata": {},
          "execution_count": 101
        }
      ]
    },
    {
      "cell_type": "code",
      "source": [
        "d"
      ],
      "metadata": {
        "colab": {
          "base_uri": "https://localhost:8080/"
        },
        "id": "VEyMrx88r4qH",
        "outputId": "f091e2fc-f980-416b-9877-78e98b6d1631"
      },
      "execution_count": 102,
      "outputs": [
        {
          "output_type": "execute_result",
          "data": {
            "text/plain": [
              "{'name': 'ritika', 'class': 'bba'}"
            ]
          },
          "metadata": {},
          "execution_count": 102
        }
      ]
    },
    {
      "cell_type": "code",
      "source": [
        "t"
      ],
      "metadata": {
        "colab": {
          "base_uri": "https://localhost:8080/"
        },
        "id": "DHhRpY5usSN_",
        "outputId": "4b05f148-1240-4ce6-93a8-3fbe26b1645d"
      },
      "execution_count": 103,
      "outputs": [
        {
          "output_type": "execute_result",
          "data": {
            "text/plain": [
              "(1, 2, 3, 4)"
            ]
          },
          "metadata": {},
          "execution_count": 103
        }
      ]
    },
    {
      "cell_type": "code",
      "source": [
        "#27 Write a code to create a list of 5 random numbers between 1 and 100, sort it in ascending order, and print the\n",
        "#result.(replaced)\n",
        "#don't know"
      ],
      "metadata": {
        "id": "SV7TlhgssS-4"
      },
      "execution_count": null,
      "outputs": []
    },
    {
      "cell_type": "code",
      "source": [
        "#28 Write a code to create a list with strings and print the element at the third index\n",
        "l = [\"apple\",\"banana\",\"kiwi\",\"orange\",\"grapes\"]\n",
        "l[3]"
      ],
      "metadata": {
        "colab": {
          "base_uri": "https://localhost:8080/",
          "height": 35
        },
        "id": "PGRlnO-ssT6n",
        "outputId": "9feab2fa-e1ce-4618-d797-9968bb8e7579"
      },
      "execution_count": 104,
      "outputs": [
        {
          "output_type": "execute_result",
          "data": {
            "text/plain": [
              "'orange'"
            ],
            "application/vnd.google.colaboratory.intrinsic+json": {
              "type": "string"
            }
          },
          "metadata": {},
          "execution_count": 104
        }
      ]
    },
    {
      "cell_type": "code",
      "source": [
        "#29  Write a code to combine two dictionaries into one and print the result.\n",
        "d1 = {\"name\":\"ritika\"}\n",
        "d2 = {\"age\":150}\n",
        "d1.update(d2)\n",
        "print(\"combined dictionary is:\",d1)"
      ],
      "metadata": {
        "colab": {
          "base_uri": "https://localhost:8080/"
        },
        "id": "wBXZInAWsT20",
        "outputId": "16f6713a-6eb1-4351-95a3-72b95f8544f2"
      },
      "execution_count": 119,
      "outputs": [
        {
          "output_type": "stream",
          "name": "stdout",
          "text": [
            "combined dictionary is: {'name': 'ritika', 'age': 150}\n"
          ]
        }
      ]
    },
    {
      "cell_type": "code",
      "source": [
        "#30 Write a code to convert a list of strings into a set\n",
        "l = ['a','b','c','d']\n"
      ],
      "metadata": {
        "id": "x-d6v42msTzy"
      },
      "execution_count": 112,
      "outputs": []
    },
    {
      "cell_type": "code",
      "source": [
        "s = set(l)\n",
        "s"
      ],
      "metadata": {
        "colab": {
          "base_uri": "https://localhost:8080/"
        },
        "id": "rdsVIgU3yfXa",
        "outputId": "942aecb3-42c7-42db-8ea7-4619a3dc37fc"
      },
      "execution_count": 116,
      "outputs": [
        {
          "output_type": "execute_result",
          "data": {
            "text/plain": [
              "{'a', 'b', 'c', 'd'}"
            ]
          },
          "metadata": {},
          "execution_count": 116
        }
      ]
    },
    {
      "cell_type": "code",
      "source": [],
      "metadata": {
        "id": "btUAXKFkyj3J"
      },
      "execution_count": null,
      "outputs": []
    }
  ]
}